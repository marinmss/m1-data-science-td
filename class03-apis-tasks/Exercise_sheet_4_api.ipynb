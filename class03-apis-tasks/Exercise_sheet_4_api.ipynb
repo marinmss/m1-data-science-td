{
 "cells": [
  {
   "cell_type": "markdown",
   "metadata": {},
   "source": [
    "# Exercise sheet \\#4\n",
    "## Using APIs\n",
    "### Exercise 1\n",
    "Write a Python script which gets the list of astronauts who are currently in Space. To do so, you can use the [astro.json](http://api.open-notify.org/astros.json) OpenNotify API. "
   ]
  },
  {
   "cell_type": "code",
   "execution_count": 27,
   "metadata": {},
   "outputs": [
    {
     "name": "stdout",
     "output_type": "stream",
     "text": [
      "['Jasmin Moghbeli', 'Andreas Mogensen', 'Satoshi Furukawa', 'Konstantin Borisov', 'Oleg Kononenko', 'Nikolai Chub', \"Loral O'Hara\"]\n"
     ]
    }
   ],
   "source": [
    "import requests \n",
    "response = requests.get('http://api.open-notify.org/astros.json')\n",
    "data = response.json()\n",
    "astronauts = []\n",
    "for person in data['people']:\n",
    "    astronauts.append(person['name'])\n",
    "\n",
    "print(astronauts)"
   ]
  },
  {
   "cell_type": "markdown",
   "metadata": {},
   "source": [
    "### Exercise 2\n",
    "\n",
    "#### Question 2.1\n",
    "Write a Python program, which, for each astronaut found in Exercise 1, retrieves  their (English) wikipedia article and extract the article's summary and links."
   ]
  },
  {
   "cell_type": "code",
   "execution_count": 37,
   "metadata": {},
   "outputs": [
    {
     "name": "stdout",
     "output_type": "stream",
     "text": [
      "{'Jasmin Moghbeli': {'page': <WikipediaPage 'Jasmin Moghbeli'>, 'summmary': 'Jasmin Moghbeli (born June 24, 1983) is an American U.S. Marine Corps test pilot and NASA astronaut. She is a graduate of the Massachusetts Institute of Technology, Naval Postgraduate School and Naval Test Pilot School. Moghbeli is mission commander for SpaceX’s Crew-7 and flight engineer aboard the International Space Station.', 'links': ['Achievement Medal', 'Aerospace engineering', 'Air Medal', 'Andreas Mogensen', 'Arizona', 'Artemis program', 'Astronaut ranks and positions', \"Bachelor's degree\", 'Bachelor of Science', 'Bad Nauheim', 'Baldwin Senior High School (New York)', 'Bell AH-1Z Viper', 'Bell AH-1 SuperCobra', 'CBS Broadcasting', 'CBS News', 'California', 'Canadian Space Agency', 'China', 'Commendation Medal', 'Denmark', 'Expedition 69', 'Expedition 70', 'Extravehicular activity', 'Flight engineer', 'Francisco Rubio (astronaut)', 'Germany', 'ISS year-long mission', 'Information technology', 'Instagram (identifier)', 'International Space Station', 'Japan', 'Jennifer Sidey', 'Jessica Watkins', 'Jiang Xinlin', 'Jonny Kim', 'Joshua Kutryk', 'Kayla Barron', 'Konstantin Borisov', 'Lieutenant colonel (United States)', 'List of International Space Station expeditions', 'List of International Space Station spacewalks', 'List of Tiangong Space Station expeditions', 'List of United States Marine Corps astronauts', 'List of United States Space Force astronauts', 'List of astronauts by year of selection', 'List of human spaceflights in Tiangong Program', 'List of human spaceflights to the International Space Station', 'List of human spaceflights to the Tiangong space station', 'List of visitors to the International Space Station', \"Loral O'Hara\", 'Low Earth orbit', 'MIT Engineers', 'Marine Corps Air Station Yuma', 'Mars', 'Maryland', 'Massachusetts Institute of Technology', \"Master's degree\", 'Master of Science', 'Matthew Dominick', 'Mercury Seven', 'Moon', 'NASA', 'NASA Astronaut Corps', 'NASA Astronaut Group 10', 'NASA Astronaut Group 11', 'NASA Astronaut Group 12', 'NASA Astronaut Group 13', 'NASA Astronaut Group 14', 'NASA Astronaut Group 15', 'NASA Astronaut Group 16', 'NASA Astronaut Group 17', 'NASA Astronaut Group 18', 'NASA Astronaut Group 19', 'NASA Astronaut Group 2', 'NASA Astronaut Group 20', 'NASA Astronaut Group 21', 'NASA Astronaut Group 22', 'NASA Astronaut Group 23', 'NASA Astronaut Group 3', 'NASA Astronaut Group 4', 'NASA Astronaut Group 5', 'NASA Astronaut Group 6', 'NASA Astronaut Group 7', 'NASA Astronaut Group 8', 'NASA Astronaut Group 9', 'NASA astronaut', 'Naval Air Station Patuxent River', 'Naval Postgraduate School', 'New York (state)', 'Nikolai Chub', 'Nowruz', 'Officer (armed forces)', 'Oleg Kononenko', 'Raja Chari', 'Robb Kulin', 'Robert Hines (astronaut)', 'Russia', 'Satoshi Furukawa', 'Shenzhou 17', 'Sortie', 'Soyuz MS-24', 'SpaceX Crew-7', 'Tang Hongbo', 'Tang Shengjie', 'The New Yorker', 'Tiangong space station', 'Uncrewed spaceflights to the International Space Station', 'United States', 'United States Marine Corps', 'United States Naval Test Pilot School', 'VMX-1', 'Valentina Tereshkova', 'War in Afghanistan (2001–2021)', 'Warren Hoburg', 'West Germany', 'William C. McCool', 'Zena Cardman']}}\n"
     ]
    }
   ],
   "source": [
    "import wikipedia\n",
    "\n",
    "def dict_astro(astronauts):\n",
    "    dict_astro = {}\n",
    "    for astronaut in astronauts:\n",
    "        try:\n",
    "            page = wikipedia.page(wikipedia.search(astronaut)[0])\n",
    "        except:\n",
    "            dict_astro[astronaut] = {'page': None, 'summary': None, 'links': None}\n",
    "        dict_astro[astronaut] = {'page': page, 'summmary': page.summary, 'links': page.links}\n",
    "        return dict_astro\n",
    "\n",
    "print(dict_astro(astronauts))"
   ]
  },
  {
   "cell_type": "markdown",
   "metadata": {},
   "source": [
    "#### Question 2.2\n",
    "Extend your Python program so that it only keeps links that are pointing to wikipedia pages (in any language)."
   ]
  },
  {
   "cell_type": "code",
   "execution_count": 45,
   "metadata": {},
   "outputs": [
    {
     "name": "stdout",
     "output_type": "stream",
     "text": [
      "Jasmin Moghbeli\n",
      "{'page': <WikipediaPage 'Jasmin Moghbeli'>, 'summmary': 'Jasmin Moghbeli (born June 24, 1983) is an American U.S. Marine Corps test pilot and NASA astronaut. She is a graduate of the Massachusetts Institute of Technology, Naval Postgraduate School and Naval Test Pilot School. Moghbeli is mission commander for SpaceX’s Crew-7 and flight engineer aboard the International Space Station.', 'links': ['Achievement Medal', 'Aerospace engineering', 'Air Medal', 'Andreas Mogensen', 'Arizona', 'Artemis program', 'Astronaut ranks and positions', \"Bachelor's degree\", 'Bachelor of Science', 'Bad Nauheim', 'Baldwin Senior High School (New York)', 'Bell AH-1Z Viper', 'Bell AH-1 SuperCobra', 'CBS Broadcasting', 'CBS News', 'California', 'Canadian Space Agency', 'China', 'Commendation Medal', 'Denmark', 'Expedition 69', 'Expedition 70', 'Extravehicular activity', 'Flight engineer', 'Francisco Rubio (astronaut)', 'Germany', 'ISS year-long mission', 'Information technology', 'Instagram (identifier)', 'International Space Station', 'Japan', 'Jennifer Sidey', 'Jessica Watkins', 'Jiang Xinlin', 'Jonny Kim', 'Joshua Kutryk', 'Kayla Barron', 'Konstantin Borisov', 'Lieutenant colonel (United States)', 'List of International Space Station expeditions', 'List of International Space Station spacewalks', 'List of Tiangong Space Station expeditions', 'List of United States Marine Corps astronauts', 'List of United States Space Force astronauts', 'List of astronauts by year of selection', 'List of human spaceflights in Tiangong Program', 'List of human spaceflights to the International Space Station', 'List of human spaceflights to the Tiangong space station', 'List of visitors to the International Space Station', \"Loral O'Hara\", 'Low Earth orbit', 'MIT Engineers', 'Marine Corps Air Station Yuma', 'Mars', 'Maryland', 'Massachusetts Institute of Technology', \"Master's degree\", 'Master of Science', 'Matthew Dominick', 'Mercury Seven', 'Moon', 'NASA', 'NASA Astronaut Corps', 'NASA Astronaut Group 10', 'NASA Astronaut Group 11', 'NASA Astronaut Group 12', 'NASA Astronaut Group 13', 'NASA Astronaut Group 14', 'NASA Astronaut Group 15', 'NASA Astronaut Group 16', 'NASA Astronaut Group 17', 'NASA Astronaut Group 18', 'NASA Astronaut Group 19', 'NASA Astronaut Group 2', 'NASA Astronaut Group 20', 'NASA Astronaut Group 21', 'NASA Astronaut Group 22', 'NASA Astronaut Group 23', 'NASA Astronaut Group 3', 'NASA Astronaut Group 4', 'NASA Astronaut Group 5', 'NASA Astronaut Group 6', 'NASA Astronaut Group 7', 'NASA Astronaut Group 8', 'NASA Astronaut Group 9', 'NASA astronaut', 'Naval Air Station Patuxent River', 'Naval Postgraduate School', 'New York (state)', 'Nikolai Chub', 'Nowruz', 'Officer (armed forces)', 'Oleg Kononenko', 'Raja Chari', 'Robb Kulin', 'Robert Hines (astronaut)', 'Russia', 'Satoshi Furukawa', 'Shenzhou 17', 'Sortie', 'Soyuz MS-24', 'SpaceX Crew-7', 'Tang Hongbo', 'Tang Shengjie', 'The New Yorker', 'Tiangong space station', 'Uncrewed spaceflights to the International Space Station', 'United States', 'United States Marine Corps', 'United States Naval Test Pilot School', 'VMX-1', 'Valentina Tereshkova', 'War in Afghanistan (2001–2021)', 'Warren Hoburg', 'West Germany', 'William C. McCool', 'Zena Cardman']}\n",
      "Andreas Mogensen\n"
     ]
    },
    {
     "ename": "KeyError",
     "evalue": "'Andreas Mogensen'",
     "output_type": "error",
     "traceback": [
      "\u001b[0;31m---------------------------------------------------------------------------\u001b[0m",
      "\u001b[0;31mKeyError\u001b[0m                                  Traceback (most recent call last)",
      "Cell \u001b[0;32mIn[45], line 9\u001b[0m\n\u001b[1;32m      5\u001b[0m         \u001b[38;5;28mprint\u001b[39m(\u001b[38;5;28mdict\u001b[39m[astro])\n\u001b[1;32m      6\u001b[0m         \u001b[38;5;66;03m#for link in dict[astro]:\u001b[39;00m\n\u001b[1;32m      7\u001b[0m             \u001b[38;5;66;03m#print(link)\u001b[39;00m\n\u001b[0;32m----> 9\u001b[0m \u001b[43mclean_dict\u001b[49m\u001b[43m(\u001b[49m\u001b[43mastronauts\u001b[49m\u001b[43m)\u001b[49m\n",
      "Cell \u001b[0;32mIn[45], line 5\u001b[0m, in \u001b[0;36mclean_dict\u001b[0;34m(astronauts)\u001b[0m\n\u001b[1;32m      3\u001b[0m \u001b[38;5;28;01mfor\u001b[39;00m astro \u001b[38;5;129;01min\u001b[39;00m astronauts:\n\u001b[1;32m      4\u001b[0m     \u001b[38;5;28mprint\u001b[39m(astro)\n\u001b[0;32m----> 5\u001b[0m     \u001b[38;5;28mprint\u001b[39m(\u001b[38;5;28;43mdict\u001b[39;49m\u001b[43m[\u001b[49m\u001b[43mastro\u001b[49m\u001b[43m]\u001b[49m)\n",
      "\u001b[0;31mKeyError\u001b[0m: 'Andreas Mogensen'"
     ]
    }
   ],
   "source": [
    "def clean_dict(astronauts):\n",
    "    dict = dict_astro(astronauts)\n",
    "    for astro in astronauts:\n",
    "        print(astro)\n",
    "        print(dict[astro])\n",
    "        #for link in dict[astro]:\n",
    "            #print(link)\n",
    "\n",
    "clean_dict(astronauts)"
   ]
  },
  {
   "cell_type": "markdown",
   "metadata": {},
   "source": [
    "#### Question 2.3\n",
    "Extend your Python program so that it processes these links as follows:\n",
    " - it retrieves the corresponding article and then extracts its references\n"
   ]
  },
  {
   "cell_type": "code",
   "execution_count": null,
   "metadata": {},
   "outputs": [],
   "source": []
  },
  {
   "cell_type": "markdown",
   "metadata": {},
   "source": [
    "#### Question 2.4\n",
    "Extend your Python program to compute the average number of views for each astronaut's main article."
   ]
  },
  {
   "cell_type": "code",
   "execution_count": null,
   "metadata": {},
   "outputs": [],
   "source": []
  },
  {
   "cell_type": "markdown",
   "metadata": {},
   "source": [
    "#### Question 2.5\n",
    "Export the extracted information in a CSV file having the following fields:\n",
    "\n",
    "`Astronaut's name ; Article's summary ; links separated by commas ; number of views`"
   ]
  },
  {
   "cell_type": "code",
   "execution_count": null,
   "metadata": {},
   "outputs": [],
   "source": []
  },
  {
   "cell_type": "markdown",
   "metadata": {},
   "source": [
    "### Exercise 3\n",
    "#### Question 3.1 \n",
    "Using Wikipedia, compile the list of UEFA's Intertoto cup winners sorted by country."
   ]
  },
  {
   "cell_type": "code",
   "execution_count": null,
   "metadata": {},
   "outputs": [],
   "source": []
  },
  {
   "cell_type": "markdown",
   "metadata": {},
   "source": [
    "#### Question 3.2\n",
    "Compute the number of Intertoto winners per country."
   ]
  },
  {
   "cell_type": "code",
   "execution_count": null,
   "metadata": {},
   "outputs": [],
   "source": []
  },
  {
   "cell_type": "markdown",
   "metadata": {},
   "source": [
    "### Exercise 4\n",
    "\n",
    "Let's play with New York Times API! Register here to get your API access token: https://developer.nytimes.com/apis\n",
    "\n",
    "#### Question 4.1\n",
    "\n",
    "Extract for each astronaut articles in NYT mentioning them from the year 2022. Create a dictionay where by the astronauts name you could get information on number of articles published about them in 2022, links to the last 10 articles of 2022, and list of keywords which are associated with those articles, including how many times each keyword appeared. \n",
    "\n",
    "For example \n",
    "\n",
    "    {\"John Smith\": {\"articles\": [\"nytimes.com/The_Best_Astronaut\",\n",
    "                                 \"nytimes.com/Do_we_really_believe_in_space_travel\"],\n",
    "                   \"num_articles\": 2,\n",
    "                   \"keywords\": {\"space\": 2, \"celebrities\": 1}}}\n",
    "                   \n",
    "<span style=\"color:red\">ATTENTION!</span> Never publish your API access key on github or any other open website! It is only to be used by you. (Well, otherwise the API service could ban you :) )"
   ]
  },
  {
   "cell_type": "code",
   "execution_count": null,
   "metadata": {},
   "outputs": [],
   "source": []
  },
  {
   "cell_type": "markdown",
   "metadata": {},
   "source": [
    "#### Question 4.2. Bonus :) \n",
    "\n",
    "What happens when we want to extract links to all the articles and not just the last 10? Extend your program to iterate through pages of the query results :)"
   ]
  },
  {
   "cell_type": "code",
   "execution_count": null,
   "metadata": {},
   "outputs": [],
   "source": []
  }
 ],
 "metadata": {
  "kernelspec": {
   "display_name": "Python 3 (ipykernel)",
   "language": "python",
   "name": "python3"
  },
  "language_info": {
   "codemirror_mode": {
    "name": "ipython",
    "version": 3
   },
   "file_extension": ".py",
   "mimetype": "text/x-python",
   "name": "python",
   "nbconvert_exporter": "python",
   "pygments_lexer": "ipython3",
   "version": "3.10.12"
  }
 },
 "nbformat": 4,
 "nbformat_minor": 4
}
